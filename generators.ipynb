{
 "cells": [
  {
   "cell_type": "markdown",
   "metadata": {},
   "source": [
    "Outline :\n",
    "\n",
    "1 - Aribtary args \n",
    "2 - generators \n",
    "3 - diff between param and args \n",
    "4 - default args and non default args \n",
    "5 - keywzord args and positional args "
   ]
  },
  {
   "cell_type": "code",
   "execution_count": null,
   "metadata": {},
   "outputs": [],
   "source": [
    "# Arbitrary args => *args and **kwargs : allows a function to accept any number of positional arguments.\n",
    "# args is a tuple of positional arguments\n",
    "# kwargs is a dictionary of keyword arguments\n",
    "\n",
    "def my_function(*args, **kwargs):\n",
    "    print(args)\n",
    "    print(kwargs)\n",
    "\n",
    "my_function(2, 2, 3, name = \"ADAM\")\n",
    "# out put \n",
    "# (2, 2, 3)\n",
    "# {'name': 'ADAM', 'age': '26'}\n",
    "\n",
    "# my_function(2, job=\"Senior python developer\", 2, 3, name = \"ADAM\", age = \"26\") Syntax error !!!!!!!!!!! \n",
    "# out put\n",
    "# Positional argument cannot appear after keyword arguments\n",
    "\n",
    "# A positional argument is a type of argument that is passed to a function or method in a specific \n",
    "# order based on the position or order in which the parameters are defined in the function's parameter list"
   ]
  },
  {
   "cell_type": "code",
   "execution_count": 31,
   "metadata": {},
   "outputs": [
    {
     "name": "stdout",
     "output_type": "stream",
     "text": [
      "omar\n",
      "12\n",
      "ismail\n",
      "12\n"
     ]
    }
   ],
   "source": [
    "def my_function(name, age=12):\n",
    "    print(name)\n",
    "    print(age)\n",
    "my_function(\"omar\")\n",
    "# omar\n",
    "# 12\n",
    "\n",
    "def my_function(name, age):\n",
    "    print(name)\n",
    "    print(age)\n",
    "\n",
    "# my_function(\"omar\") \n",
    "# missing 1 required positional argument: 'age'\n",
    "\n",
    "# def my_function(name, age=12, job):\n",
    "#     print(name)\n",
    "#     print(age)\n",
    "# Non-default argument follows default argument\n",
    "\n",
    "my_function(age=12, name=\"ismail\")\n",
    "#fine \n",
    "\n",
    "# my_function(age=12, my_name=\"ismail\")\n",
    "# got an unexpected keyword argument 'namme'"
   ]
  },
  {
   "cell_type": "code",
   "execution_count": 67,
   "metadata": {},
   "outputs": [
    {
     "name": "stdout",
     "output_type": "stream",
     "text": [
      "first generated value is  0\n",
      "2\n",
      "4\n",
      "6\n",
      "8\n",
      "other call \n",
      "0\n",
      "2\n",
      "4\n",
      "using range function\n",
      "0\n",
      "1\n",
      "2\n",
      "3\n",
      "4\n"
     ]
    }
   ],
   "source": [
    "# A generator in Python is a type of iterable an iterable object that can be iterated over later. \n",
    "# that allows you to iterate over a potentially large sequence\n",
    "# of values without creating and storing the entire sequence in memory at once. Instead, it \n",
    "# generates values on the fly as you iterate over them, which can be more memory-efficient compared to storing \n",
    "# all the values in a list or other data structure.\n",
    "\n",
    "def number_sequence(limit):\n",
    "    i = 0\n",
    "    while i < limit:\n",
    "        if i % 2 == 0: \n",
    "            yield i \n",
    "        i += 1\n",
    "\n",
    "# Create a generator object\n",
    "my_generator = number_sequence(10)\n",
    "\n",
    "print(\"first generated value is \", next(my_generator))\n",
    "\n",
    "# Iterate over the generator and print the rest of values\n",
    "for num in my_generator:\n",
    "    print(num)\n",
    "\n",
    "print(\"other call \")\n",
    "my_generator = number_sequence(5)\n",
    "for num in my_generator:\n",
    "    print(num)\n",
    "\n",
    "print(\"using range function\")\n",
    "for i in range(5):\n",
    "    print(i)\n",
    "\n",
    "\n",
    "# the key difference is that for i in range() generates all values in advance and stores them in memory,\n",
    "# while a generator function generates and yields values on the fly, making it memory-efficient, especially\n",
    "# when dealing with large or potentially infinite sequences. The choice between the two depends on your specific\n",
    "# use case and memory requirements."
   ]
  },
  {
   "cell_type": "code",
   "execution_count": null,
   "metadata": {},
   "outputs": [],
   "source": [
    "def fibonacci():\n",
    "    a, b = 0, 1\n",
    "    while True:\n",
    "        yield a\n",
    "        a, b = b, a + b\n",
    "\n",
    "fib_gen = fibonacci()"
   ]
  },
  {
   "cell_type": "code",
   "execution_count": 48,
   "metadata": {},
   "outputs": [],
   "source": [
    "import random\n",
    "def random_numbers(min_value, max_value):\n",
    "    while True:\n",
    "        yield random.randint(min_value, max_value)"
   ]
  },
  {
   "cell_type": "code",
   "execution_count": 68,
   "metadata": {},
   "outputs": [
    {
     "name": "stdout",
     "output_type": "stream",
     "text": [
      "61\n",
      "74\n",
      "37\n",
      "7\n",
      "89\n"
     ]
    }
   ],
   "source": [
    "random_number_generator = random_numbers(1, 100)\n",
    "for _ in range(5):\n",
    "    random_number = next(random_number_generator)\n",
    "    print(random_number)"
   ]
  },
  {
   "cell_type": "code",
   "execution_count": 79,
   "metadata": {},
   "outputs": [
    {
     "name": "stdout",
     "output_type": "stream",
     "text": [
      "3\n"
     ]
    }
   ],
   "source": [
    "# iter() is a built-in Python function used to obtain an iterator from an iterable object\n",
    "a = iter([1,2,3])\n",
    "next(a), next(a)\n",
    "for i in a :\n",
    "    print(i)"
   ]
  }
 ],
 "metadata": {
  "kernelspec": {
   "display_name": "Python 3",
   "language": "python",
   "name": "python3"
  },
  "language_info": {
   "codemirror_mode": {
    "name": "ipython",
    "version": 3
   },
   "file_extension": ".py",
   "mimetype": "text/x-python",
   "name": "python",
   "nbconvert_exporter": "python",
   "pygments_lexer": "ipython3",
   "version": "3.9.11"
  }
 },
 "nbformat": 4,
 "nbformat_minor": 2
}
