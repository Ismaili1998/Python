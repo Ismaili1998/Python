{
 "cells": [
  {
   "cell_type": "code",
   "execution_count": 5,
   "metadata": {},
   "outputs": [
    {
     "name": "stdout",
     "output_type": "stream",
     "text": [
      " 2.33 +  4\n"
     ]
    }
   ],
   "source": [
    "# Python 3.5 + supports type hints for improved code readability and static type checking using tools like mypy.\n",
    "# python Copy code\n",
    "# type hints to provide information to developers and tools like linters and type checkers,\n",
    "# but it does not enforce these type hints at runtime.\n",
    "\n",
    "def add(x: float, y: int) -> int:\n",
    "    return f\" {x:.2f} +  {y}\"\n",
    "result = add(2.333, 4)\n",
    "print(result)"
   ]
  },
  {
   "cell_type": "code",
   "execution_count": 6,
   "metadata": {},
   "outputs": [
    {
     "name": "stdout",
     "output_type": "stream",
     "text": [
      "Hello, Jane! You're 25 years old.\n"
     ]
    }
   ],
   "source": [
    "person = {\"name\": \"Jane\", \"age\": 25}\n",
    "result = \"Hello, {name}! You're {age} years old.\".format(**person)\n",
    "print(result)"
   ]
  },
  {
   "cell_type": "code",
   "execution_count": 13,
   "metadata": {},
   "outputs": [
    {
     "data": {
      "text/plain": [
       "(\"User's thousand separators: 3,223\",\n",
       " 'Comma as thousand separators and two decimals: 12,999,990.11')"
      ]
     },
     "execution_count": 13,
     "metadata": {},
     "output_type": "execute_result"
    }
   ],
   "source": [
    "nbr1 = f\"User's thousand separators: {3223:,}\"\n",
    "nbr2 = f\"Comma as thousand separators and two decimals: {12999990.112:,.2f}\"\n",
    "nbr1, nbr2"
   ]
  },
  {
   "cell_type": "code",
   "execution_count": 19,
   "metadata": {},
   "outputs": [
    {
     "ename": "ValueError",
     "evalue": "cannot switch from manual field specification to automatic field numbering",
     "output_type": "error",
     "traceback": [
      "\u001b[1;31m---------------------------------------------------------------------------\u001b[0m",
      "\u001b[1;31mValueError\u001b[0m                                Traceback (most recent call last)",
      "\u001b[1;32mc:\\Users\\ismai\\OneDrive\\Bureau\\Ref\\Python\\Annotation.ipynb Cell 4\u001b[0m line \u001b[0;36m2\n\u001b[0;32m      <a href='vscode-notebook-cell:/c%3A/Users/ismai/OneDrive/Bureau/Ref/Python/Annotation.ipynb#W4sZmlsZQ%3D%3D?line=0'>1</a>\u001b[0m \u001b[39m\"\u001b[39m\u001b[39mhi \u001b[39m\u001b[39m{1}\u001b[39;00m\u001b[39m \u001b[39m\u001b[39m{0}\u001b[39;00m\u001b[39m\"\u001b[39m\u001b[39m.\u001b[39mformat(\u001b[39m1\u001b[39m, \u001b[39m2\u001b[39m) \u001b[39m# OK \u001b[39;00m\n\u001b[1;32m----> <a href='vscode-notebook-cell:/c%3A/Users/ismai/OneDrive/Bureau/Ref/Python/Annotation.ipynb#W4sZmlsZQ%3D%3D?line=1'>2</a>\u001b[0m \u001b[39m\"\u001b[39;49m\u001b[39mhi \u001b[39;49m\u001b[39m{1}\u001b[39;49;00m\u001b[39m \u001b[39;49m\u001b[39m{}\u001b[39;49;00m\u001b[39m\"\u001b[39;49m\u001b[39m.\u001b[39;49mformat(\u001b[39m1\u001b[39;49m, \u001b[39m2\u001b[39;49m) \u001b[39m# error \u001b[39;00m\n",
      "\u001b[1;31mValueError\u001b[0m: cannot switch from manual field specification to automatic field numbering"
     ]
    }
   ],
   "source": [
    "\"hi {1} {0}\".format(1, 2) # OK \n",
    "\"hi {1} {}\".format(1, 2) # error "
   ]
  },
  {
   "cell_type": "code",
   "execution_count": 8,
   "metadata": {},
   "outputs": [
    {
     "data": {
      "text/plain": [
       "'============hello============='"
      ]
     },
     "execution_count": 8,
     "metadata": {},
     "output_type": "execute_result"
    }
   ],
   "source": [
    "a = \"hello\"\n",
    "result = f\"{a:=^30}\"\n",
    "result"
   ]
  }
 ],
 "metadata": {
  "kernelspec": {
   "display_name": "Python 3",
   "language": "python",
   "name": "python3"
  },
  "language_info": {
   "codemirror_mode": {
    "name": "ipython",
    "version": 3
   },
   "file_extension": ".py",
   "mimetype": "text/x-python",
   "name": "python",
   "nbconvert_exporter": "python",
   "pygments_lexer": "ipython3",
   "version": "3.9.11"
  }
 },
 "nbformat": 4,
 "nbformat_minor": 2
}
